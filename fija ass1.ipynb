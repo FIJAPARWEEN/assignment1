{
 "cells": [
  {
   "cell_type": "code",
   "execution_count": 5,
   "id": "2de7feaf-16d9-4eca-b71a-2b1b58f93398",
   "metadata": {},
   "outputs": [],
   "source": [
    "#Q1. Create one variable containing following type of data: tuple"
   ]
  },
  {
   "cell_type": "code",
   "execution_count": 12,
   "id": "724671a6-2428-46a6-8873-95430cb726e7",
   "metadata": {},
   "outputs": [],
   "source": [
    "var4 = 1"
   ]
  },
  {
   "cell_type": "code",
   "execution_count": 13,
   "id": "b2021ae0-c909-4d6a-b783-aa9aadf47acf",
   "metadata": {},
   "outputs": [
    {
     "data": {
      "text/plain": [
       "int"
      ]
     },
     "execution_count": 13,
     "metadata": {},
     "output_type": "execute_result"
    }
   ],
   "source": [
    "type(var4)"
   ]
  },
  {
   "cell_type": "code",
   "execution_count": 11,
   "id": "ef06122d-ec48-4e07-8947-269df3b4c655",
   "metadata": {},
   "outputs": [],
   "source": [
    "#Q3.(i) The / operator in Python is used for division. It divides the left operand by the right operand and returns the quotient as a floating-point number\n",
    "#The % operator in Python is known as the modulus operator. It calculates the remainder when the left operand is divided by the right operand.\n",
    "#The // operator in Python is known as the floor division operator. It performs division and returns the largest whole number that is less than or equal to the quotient. \n",
    "#The ** operator in Python is used for exponentiation. It raises the left operand to the power of the right operand.\n",
    "\n"
   ]
  },
  {
   "cell_type": "code",
   "execution_count": 21,
   "id": "6b82599c-880f-405a-9bec-53a111f69619",
   "metadata": {},
   "outputs": [
    {
     "name": "stdout",
     "output_type": "stream",
     "text": [
      "afroz\n",
      "123\n",
      "23.43\n",
      "False\n",
      "python\n",
      "True\n",
      "456\n",
      "[1, 2, 3]\n",
      "(6, 7, 8)\n",
      "{9, 7}\n"
     ]
    }
   ],
   "source": [
    "l = ['afroz', 123, 23.43, False, \"python\", True, 456, [1,2,3,], (6,7,8), {9,7} ]\n",
    "for sudh in  l:\n",
    "    print(sudh)"
   ]
  },
  {
   "cell_type": "code",
   "execution_count": 22,
   "id": "449767df-7068-43d6-9ded-dec91a2a7589",
   "metadata": {},
   "outputs": [
    {
     "data": {
      "text/plain": [
       "list"
      ]
     },
     "execution_count": 22,
     "metadata": {},
     "output_type": "execute_result"
    }
   ],
   "source": [
    "type(l)"
   ]
  },
  {
   "cell_type": "code",
   "execution_count": 24,
   "id": "a14d7fa4-d3cb-4b10-9894-6c46f9437ba0",
   "metadata": {},
   "outputs": [
    {
     "name": "stdout",
     "output_type": "stream",
     "text": [
      "A is divisible by B 2 times.\n"
     ]
    }
   ],
   "source": [
    "A = 100\n",
    "B = 5\n",
    "count = 0\n",
    "\n",
    "while A % B == 0:\n",
    "    A = A // B\n",
    "    count += 1\n",
    "\n",
    "print(\"A is divisible by B\", count, \"times.\")\n"
   ]
  },
  {
   "cell_type": "code",
   "execution_count": 28,
   "id": "bd8cc4ae-1f73-4f23-b61a-868b55749f20",
   "metadata": {},
   "outputs": [
    {
     "name": "stdout",
     "output_type": "stream",
     "text": [
      "1 is not divisible by 3\n",
      "2 is not divisible by 3\n",
      "3 is divisible by 3\n",
      "4 is not divisible by 3\n",
      "54 is divisible by 3\n",
      "63 is divisible by 3\n",
      "3 is divisible by 3\n",
      "6 is divisible by 3\n",
      "9 is divisible by 3\n",
      "2 is not divisible by 3\n",
      "5 is not divisible by 3\n",
      "8 is not divisible by 3\n",
      "90 is divisible by 3\n",
      "4 is not divisible by 3\n",
      "32 is not divisible by 3\n",
      "56 is not divisible by 3\n",
      "43 is not divisible by 3\n",
      "2 is not divisible by 3\n",
      "21 is divisible by 3\n",
      "4 is not divisible by 3\n",
      "67 is not divisible by 3\n",
      "3 is divisible by 3\n",
      "32 is not divisible by 3\n",
      "4 is not divisible by 3\n",
      "6 is divisible by 3\n"
     ]
    }
   ],
   "source": [
    "l = [1,2,3,4,54,63,3,6,9,2,5,8,90,4,32,56,43,2,21,4,67,3,32,4,6]\n",
    "for afroz in l:\n",
    "    if afroz % 3 == 0:\n",
    "        print(afroz, \"is divisible by 3\")\n",
    "    else:\n",
    "        print(afroz, \"is not divisible by 3\")"
   ]
  },
  {
   "cell_type": "code",
   "execution_count": 31,
   "id": "6508700c-d996-427b-900e-08164bf38d50",
   "metadata": {},
   "outputs": [],
   "source": [
    " #immutable object cannot be changed once it is created. ex- strings\n",
    " #mutable objects can be changed. ex-int  "
   ]
  },
  {
   "cell_type": "code",
   "execution_count": 36,
   "id": "5227c280-5e28-43a8-838b-500c24f37131",
   "metadata": {},
   "outputs": [],
   "source": [
    "l = \"skills\""
   ]
  },
  {
   "cell_type": "code",
   "execution_count": 48,
   "id": "3201f23e-a9bc-4ebd-8968-9ff3882faf80",
   "metadata": {},
   "outputs": [
    {
     "data": {
      "text/plain": [
       "'akilla'"
      ]
     },
     "execution_count": 48,
     "metadata": {},
     "output_type": "execute_result"
    }
   ],
   "source": [
    "l.replace(\"s\", \"a\")"
   ]
  },
  {
   "cell_type": "code",
   "execution_count": 50,
   "id": "e905d332-0e4e-433c-8e5e-84e073cbdbf8",
   "metadata": {},
   "outputs": [
    {
     "data": {
      "text/plain": [
       "'skills'"
      ]
     },
     "execution_count": 50,
     "metadata": {},
     "output_type": "execute_result"
    }
   ],
   "source": [
    "l"
   ]
  },
  {
   "cell_type": "code",
   "execution_count": 52,
   "id": "6e8bdee7-e5ed-4573-b9da-f9617b48c18b",
   "metadata": {},
   "outputs": [],
   "source": [
    "l1 = [1,3,5,7]"
   ]
  },
  {
   "cell_type": "code",
   "execution_count": 56,
   "id": "2926b83b-3b10-428e-98a0-f12af07f2446",
   "metadata": {},
   "outputs": [],
   "source": [
    "l1.append(1)"
   ]
  }
 ],
 "metadata": {
  "kernelspec": {
   "display_name": "Python 3 (ipykernel)",
   "language": "python",
   "name": "python3"
  },
  "language_info": {
   "codemirror_mode": {
    "name": "ipython",
    "version": 3
   },
   "file_extension": ".py",
   "mimetype": "text/x-python",
   "name": "python",
   "nbconvert_exporter": "python",
   "pygments_lexer": "ipython3",
   "version": "3.10.8"
  }
 },
 "nbformat": 4,
 "nbformat_minor": 5
}
